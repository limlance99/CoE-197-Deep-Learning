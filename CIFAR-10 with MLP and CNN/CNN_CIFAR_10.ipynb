{
 "cells": [
  {
   "cell_type": "code",
   "execution_count": 10,
   "metadata": {
    "id": "MS7D8pS7-ppM",
    "scrolled": false
   },
   "outputs": [],
   "source": [
    "from __future__ import absolute_import\n",
    "from __future__ import division\n",
    "from __future__ import print_function\n",
    "\n",
    "import numpy as np\n",
    "from keras.models import Model\n",
    "from keras.layers import Activation, Dense, Dropout, Input\n",
    "from keras.layers import Conv2D, MaxPooling2D, Flatten, concatenate\n",
    "from keras.utils import to_categorical, plot_model\n",
    "from keras.datasets import cifar10\n",
    "\n",
    "# load cifar10 dataset\n",
    "(x_train, y_train), (x_test, y_test) = cifar10.load_data()"
   ]
  },
  {
   "cell_type": "code",
   "execution_count": 11,
   "metadata": {},
   "outputs": [],
   "source": [
    "# compute the number of labels\n",
    "num_labels = len(np.unique(y_train))\n",
    "\n",
    "# convert to one-hot vector\n",
    "y_train = to_categorical(y_train)\n",
    "y_test = to_categorical(y_test)\n",
    "\n",
    "# input image dimensions\n",
    "image_size = x_train.shape[1]\n",
    "# resize and normalize\n",
    "x_train = np.reshape(x_train,[-1, image_size, image_size, 3])\n",
    "x_test = np.reshape(x_test,[-1, image_size, image_size, 3])\n",
    "x_train = (x_train.astype('float32') - 127.5) / 127.5\n",
    "x_test = (x_test.astype('float32') - 127.5) / 127.5"
   ]
  },
  {
   "cell_type": "code",
   "execution_count": 12,
   "metadata": {
    "id": "B0jSWODW_MmY"
   },
   "outputs": [],
   "source": [
    "\n",
    "# network parameters\n",
    "input_shape = (image_size, image_size, 3)\n",
    "batch_size = 256\n",
    "kernel_size = 3\n",
    "filters = 64"
   ]
  },
  {
   "cell_type": "code",
   "execution_count": 13,
   "metadata": {
    "id": "G9SYkQ5B_RAG"
   },
   "outputs": [],
   "source": [
    "# left branch of Y network\n",
    "left_inputs = Input(shape=input_shape)\n",
    "x = left_inputs\n",
    "# 3 layers of Conv2D-MaxPooling2D\n",
    "depth = 3\n",
    "for i in range(depth):\n",
    "    x = Conv2D(filters=filters,\n",
    "               kernel_size=kernel_size,\n",
    "               padding='same',\n",
    "               activation='elu')(x)\n",
    "    \n",
    "    if i < (depth - 1):\n",
    "        x = MaxPooling2D()(x)"
   ]
  },
  {
   "cell_type": "code",
   "execution_count": 14,
   "metadata": {
    "id": "3vZwvp1KHgxg"
   },
   "outputs": [],
   "source": [
    "# right branch of Y network\n",
    "right_inputs = Input(shape=input_shape)\n",
    "y = right_inputs\n",
    "# 3 layers of Conv2D-Dropout-MaxPooling2D\n",
    "for i in range(depth):\n",
    "    y = Conv2D(filters=filters,\n",
    "               kernel_size=kernel_size,\n",
    "               padding='same',\n",
    "               activation='elu',\n",
    "               dilation_rate=2)(y)\n",
    "    if i < (depth - 1):\n",
    "        y = MaxPooling2D()(y)"
   ]
  },
  {
   "cell_type": "code",
   "execution_count": 15,
   "metadata": {
    "colab": {
     "base_uri": "https://localhost:8080/",
     "height": 672
    },
    "id": "UoGaoYqPHnDG",
    "outputId": "3660a624-74b4-40d6-dd3c-e4e9191d1d3f"
   },
   "outputs": [
    {
     "name": "stdout",
     "output_type": "stream",
     "text": [
      "Model: \"Y_Network\"\n",
      "__________________________________________________________________________________________________\n",
      "Layer (type)                    Output Shape         Param #     Connected to                     \n",
      "==================================================================================================\n",
      "input_3 (InputLayer)            [(None, 32, 32, 3)]  0                                            \n",
      "__________________________________________________________________________________________________\n",
      "input_4 (InputLayer)            [(None, 32, 32, 3)]  0                                            \n",
      "__________________________________________________________________________________________________\n",
      "conv2d_6 (Conv2D)               (None, 32, 32, 64)   1792        input_3[0][0]                    \n",
      "__________________________________________________________________________________________________\n",
      "conv2d_9 (Conv2D)               (None, 32, 32, 64)   1792        input_4[0][0]                    \n",
      "__________________________________________________________________________________________________\n",
      "max_pooling2d_4 (MaxPooling2D)  (None, 16, 16, 64)   0           conv2d_6[0][0]                   \n",
      "__________________________________________________________________________________________________\n",
      "max_pooling2d_6 (MaxPooling2D)  (None, 16, 16, 64)   0           conv2d_9[0][0]                   \n",
      "__________________________________________________________________________________________________\n",
      "conv2d_7 (Conv2D)               (None, 16, 16, 64)   36928       max_pooling2d_4[0][0]            \n",
      "__________________________________________________________________________________________________\n",
      "conv2d_10 (Conv2D)              (None, 16, 16, 64)   36928       max_pooling2d_6[0][0]            \n",
      "__________________________________________________________________________________________________\n",
      "max_pooling2d_5 (MaxPooling2D)  (None, 8, 8, 64)     0           conv2d_7[0][0]                   \n",
      "__________________________________________________________________________________________________\n",
      "max_pooling2d_7 (MaxPooling2D)  (None, 8, 8, 64)     0           conv2d_10[0][0]                  \n",
      "__________________________________________________________________________________________________\n",
      "conv2d_8 (Conv2D)               (None, 8, 8, 64)     36928       max_pooling2d_5[0][0]            \n",
      "__________________________________________________________________________________________________\n",
      "conv2d_11 (Conv2D)              (None, 8, 8, 64)     36928       max_pooling2d_7[0][0]            \n",
      "__________________________________________________________________________________________________\n",
      "concatenate_1 (Concatenate)     (None, 8, 8, 128)    0           conv2d_8[0][0]                   \n",
      "                                                                 conv2d_11[0][0]                  \n",
      "__________________________________________________________________________________________________\n",
      "flatten_1 (Flatten)             (None, 8192)         0           concatenate_1[0][0]              \n",
      "__________________________________________________________________________________________________\n",
      "dense_1 (Dense)                 (None, 10)           81930       flatten_1[0][0]                  \n",
      "==================================================================================================\n",
      "Total params: 233,226\n",
      "Trainable params: 233,226\n",
      "Non-trainable params: 0\n",
      "__________________________________________________________________________________________________\n"
     ]
    }
   ],
   "source": [
    "# merge left and right branches outputs\n",
    "y = concatenate([x, y])\n",
    "# feature maps to vector in preparation to connecting to Dense layer\n",
    "y = Flatten()(y)\n",
    "# y = Dropout(dropout)(y)\n",
    "outputs = Dense(num_labels, activation='softmax')(y)\n",
    "\n",
    "# build the model in functional API\n",
    "model = Model([left_inputs, right_inputs], outputs, name='Y_Network')\n",
    "# verify the model using graph\n",
    "# plot_model(model, to_file='cnn-y-network.png', show_shapes=True)\n",
    "# verify the model using layer text description\n",
    "model.summary()"
   ]
  },
  {
   "cell_type": "code",
   "execution_count": 16,
   "metadata": {
    "colab": {
     "base_uri": "https://localhost:8080/",
     "height": 151
    },
    "id": "0eELRHe-_S_0",
    "outputId": "fa2fa837-cf78-44d8-eb75-eb1d016fd405"
   },
   "outputs": [
    {
     "name": "stdout",
     "output_type": "stream",
     "text": [
      "Epoch 1/20\n",
      "196/196 [==============================] - 299s 2s/step - loss: 1.9981 - accuracy: 0.3048 - val_loss: 1.8462 - val_accuracy: 0.3746\n",
      "Epoch 2/20\n",
      "196/196 [==============================] - 330s 2s/step - loss: 1.7771 - accuracy: 0.3909 - val_loss: 1.6992 - val_accuracy: 0.4195\n",
      "Epoch 3/20\n",
      "196/196 [==============================] - 289s 1s/step - loss: 1.6538 - accuracy: 0.4315 - val_loss: 1.6034 - val_accuracy: 0.4419\n",
      "Epoch 4/20\n",
      "196/196 [==============================] - 281s 1s/step - loss: 1.5737 - accuracy: 0.4565 - val_loss: 1.5510 - val_accuracy: 0.4571\n",
      "Epoch 5/20\n",
      "196/196 [==============================] - 280s 1s/step - loss: 1.5126 - accuracy: 0.4746 - val_loss: 1.4830 - val_accuracy: 0.4779\n",
      "Epoch 6/20\n",
      "196/196 [==============================] - 272s 1s/step - loss: 1.4548 - accuracy: 0.4929 - val_loss: 1.4257 - val_accuracy: 0.5010\n",
      "Epoch 7/20\n",
      "196/196 [==============================] - 269s 1s/step - loss: 1.4019 - accuracy: 0.5119 - val_loss: 1.3928 - val_accuracy: 0.5085\n",
      "Epoch 8/20\n",
      "196/196 [==============================] - 268s 1s/step - loss: 1.3597 - accuracy: 0.5256 - val_loss: 1.3566 - val_accuracy: 0.5228\n",
      "Epoch 9/20\n",
      "196/196 [==============================] - 169s 860ms/step - loss: 1.3250 - accuracy: 0.5383 - val_loss: 1.3474 - val_accuracy: 0.5284\n",
      "Epoch 10/20\n",
      "196/196 [==============================] - 141s 717ms/step - loss: 1.2956 - accuracy: 0.5495 - val_loss: 1.3132 - val_accuracy: 0.5374\n",
      "Epoch 11/20\n",
      "196/196 [==============================] - 139s 708ms/step - loss: 1.2695 - accuracy: 0.5577 - val_loss: 1.3014 - val_accuracy: 0.5436\n",
      "Epoch 12/20\n",
      "196/196 [==============================] - 263s 1s/step - loss: 1.2438 - accuracy: 0.5691 - val_loss: 1.2467 - val_accuracy: 0.5664\n",
      "Epoch 13/20\n",
      "196/196 [==============================] - 265s 1s/step - loss: 1.2195 - accuracy: 0.5776 - val_loss: 1.2331 - val_accuracy: 0.5672\n",
      "Epoch 14/20\n",
      "196/196 [==============================] - 264s 1s/step - loss: 1.1949 - accuracy: 0.5875 - val_loss: 1.2115 - val_accuracy: 0.5758\n",
      "Epoch 15/20\n",
      "196/196 [==============================] - 260s 1s/step - loss: 1.1717 - accuracy: 0.5946 - val_loss: 1.2234 - val_accuracy: 0.5689\n",
      "Epoch 16/20\n",
      "196/196 [==============================] - 257s 1s/step - loss: 1.1488 - accuracy: 0.6031 - val_loss: 1.1663 - val_accuracy: 0.5888\n",
      "Epoch 17/20\n",
      "196/196 [==============================] - 259s 1s/step - loss: 1.1287 - accuracy: 0.6109 - val_loss: 1.1862 - val_accuracy: 0.5743\n",
      "Epoch 18/20\n",
      "196/196 [==============================] - 258s 1s/step - loss: 1.1079 - accuracy: 0.6186 - val_loss: 1.1349 - val_accuracy: 0.6036\n",
      "Epoch 19/20\n",
      "196/196 [==============================] - 262s 1s/step - loss: 1.0902 - accuracy: 0.6237 - val_loss: 1.1712 - val_accuracy: 0.5827\n",
      "Epoch 20/20\n",
      "196/196 [==============================] - 212s 1s/step - loss: 1.0716 - accuracy: 0.6285 - val_loss: 1.1540 - val_accuracy: 0.5984\n",
      "40/40 [==============================] - 8s 188ms/step - loss: 1.1540 - accuracy: 0.5984\n",
      "\n",
      "Test accuracy: 59.8%\n"
     ]
    }
   ],
   "source": [
    "\n",
    "# classifier loss, Adam optimizer, classifier accuracy\n",
    "model.compile(loss='categorical_crossentropy',\n",
    "              optimizer='sgd',\n",
    "              metrics=['accuracy'])\n",
    "\n",
    "# train the model with input images and labels\n",
    "history = model.fit([x_train, x_train],\n",
    "          y_train, \n",
    "          validation_data=([x_test, x_test], y_test),\n",
    "          epochs=20,\n",
    "          batch_size=batch_size)\n",
    "\n",
    "# model accuracy on test dataset\n",
    "score = model.evaluate([x_test, x_test], y_test, batch_size=batch_size)\n",
    "print(\"\\nTest accuracy: %.1f%%\" % (100.0 * score[1]))"
   ]
  },
  {
   "cell_type": "code",
   "execution_count": 17,
   "metadata": {},
   "outputs": [
    {
     "data": {
      "image/png": "[encoded data removed]",
      "text/plain": [
       "<Figure size 432x288 with 1 Axes>"
      ]
     },
     "metadata": {
      "needs_background": "light"
     },
     "output_type": "display_data"
    }
   ],
   "source": [
    "import matplotlib.pyplot as plt\n",
    "\n",
    "# Plot history: Loss and accuracy\n",
    "plt.plot(history.history['loss'], label='Train loss')\n",
    "plt.plot(history.history['val_loss'], label='Test loss')\n",
    "#plt.plot(history.history['val_acc'], label='Test accuracy')\n",
    "plt.title('Train and Test Loss')\n",
    "plt.ylabel('Cross-Entropy')\n",
    "plt.xlabel('Epochs')\n",
    "plt.legend(loc=\"upper right\")\n",
    "plt.show()"
   ]
  },
  {
   "cell_type": "code",
   "execution_count": 18,
   "metadata": {},
   "outputs": [
    {
     "data": {
      "image/png": "[encoded data removed]",
      "text/plain": [
       "<Figure size 432x288 with 1 Axes>"
      ]
     },
     "metadata": {
      "needs_background": "light"
     },
     "output_type": "display_data"
    }
   ],
   "source": [
    "import matplotlib.pyplot as plt\n",
    "\n",
    "# Plot history: Loss and accuracy\n",
    "plt.plot(history.history['loss'], label='Train loss')\n",
    "plt.plot(history.history['val_loss'], label='Test loss')\n",
    "#plt.plot(history.history['val_acc'], label='Test accuracy')\n",
    "plt.title('Train and Test Loss')\n",
    "plt.ylabel('Cross-Entropy')\n",
    "plt.xlabel('Epochs')\n",
    "plt.legend(loc=\"upper right\")\n",
    "plt.show()"
   ]
  }
 ],
 "metadata": {
  "colab": {
   "name": "CoE 197 CNN CIFAR-10.ipynb",
   "provenance": []
  },
  "kernelspec": {
   "display_name": "Python 3",
   "language": "python",
   "name": "python3"
  },
  "language_info": {
   "codemirror_mode": {
    "name": "ipython",
    "version": 3
   },
   "file_extension": ".py",
   "mimetype": "text/x-python",
   "name": "python",
   "nbconvert_exporter": "python",
   "pygments_lexer": "ipython3",
   "version": "3.8.3"
  }
 },
 "nbformat": 4,
 "nbformat_minor": 1
}
