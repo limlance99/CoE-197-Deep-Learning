{
  "nbformat": 4,
  "nbformat_minor": 0,
  "metadata": {
    "colab": {
      "name": "AdaIN Style Transfer.ipynb",
      "provenance": [],
      "collapsed_sections": []
    },
    "kernelspec": {
      "name": "python3",
      "display_name": "Python 3"
    },
    "accelerator": "GPU"
  },
  "cells": [
    {
      "cell_type": "code",
      "metadata": {
        "id": "Y93dPIVmaaEm"
      },
      "source": [
        "import matplotlib.pyplot as plt\r\n",
        "import numpy as np\r\n",
        "\r\n",
        "import torch\r\n",
        "from torch import nn\r\n",
        "from torch import optim\r\n",
        "from torchvision import datasets, transforms\r\n",
        "from torch.utils.data import random_split, DataLoader"
      ],
      "execution_count": 452,
      "outputs": []
    },
    {
      "cell_type": "code",
      "metadata": {
        "id": "fv-9IZqVbOyV"
      },
      "source": [
        "class Encoder(nn.Module):\r\n",
        "    def __init__(self, **kwargs):\r\n",
        "        super().__init__()\r\n",
        "        self.conv1 = nn.Conv2d(3, 16, 3, padding=1)\r\n",
        "        self.conv2 = nn.Conv2d(16, 4, 3, padding=1)\r\n",
        "        self.pool = nn.MaxPool2d(2,2)\r\n",
        "        \r\n",
        "  \r\n",
        "    def forward(self, x):\r\n",
        "        x = torch.relu(self.conv1(x))\r\n",
        "        x = self.pool(x)\r\n",
        "        x = torch.relu(self.conv2(x))\r\n",
        "        x = self.pool(x)\r\n",
        "        return x\r\n",
        "\r\n",
        "class Decoder(nn.Module):\r\n",
        "    def __init__(self, **kwargs):\r\n",
        "        super().__init__()\r\n",
        "        self.conv1 = nn.ConvTranspose2d(4, 16, 2, stride=2)\r\n",
        "        self.conv2 = nn.ConvTranspose2d(16, 3, 2, stride=2)\r\n",
        "        \r\n",
        "\r\n",
        "    def forward(self, x):\r\n",
        "        x = torch.relu(self.conv1(x))\r\n",
        "        x = torch.sigmoid(self.conv2(x))\r\n",
        "        return x\r\n",
        "\r\n",
        "\r\n"
      ],
      "execution_count": 453,
      "outputs": []
    },
    {
      "cell_type": "code",
      "metadata": {
        "id": "4etsP92HcKcY"
      },
      "source": [
        "#  use gpu if available\r\n",
        "device = torch.device(\"cuda\" if torch.cuda.is_available() else \"cpu\")\r\n",
        "\r\n",
        "# create a model from `Encoder` and `Decoder` class\r\n",
        "# load it to the specified device, either gpu or cpu\r\n",
        "encoder = Encoder().to(device)\r\n",
        "decoder = Decoder().to(device)\r\n",
        "\r\n",
        "\r\n",
        "# create optimizer objects\r\n",
        "# Adam optimizer with learning rate 1e-3\r\n",
        "e_optimizer = optim.Adam(encoder.parameters(), lr=1e-3)\r\n",
        "d_optimizer = optim.Adam(decoder.parameters(), lr=1e-3)\r\n",
        "\r\n",
        "\r\n",
        "# mean-squared error loss\r\n",
        "criterion = nn.MSELoss()"
      ],
      "execution_count": 454,
      "outputs": []
    },
    {
      "cell_type": "code",
      "metadata": {
        "id": "2I12UKe7c6c8"
      },
      "source": [
        "epochs = 15\r\n",
        "mnist_transform = transforms.Compose(\r\n",
        "    [transforms.Resize(28), transforms.Grayscale(3), transforms.ToTensor()]\r\n",
        ")\r\n",
        "svhn_transform = transforms.Compose(\r\n",
        "    [transforms.Resize(28), transforms.ToTensor()]\r\n",
        ")"
      ],
      "execution_count": 455,
      "outputs": []
    },
    {
      "cell_type": "code",
      "metadata": {
        "colab": {
          "base_uri": "https://localhost:8080/"
        },
        "id": "4ZuqA9rHexoq",
        "outputId": "9cfa31fd-0cda-4fd7-9d60-d0097a63f3c8"
      },
      "source": [
        "mnist_data = datasets.MNIST(root=\"~/torch_datasets\", train=True, download=True, transform=mnist_transform)\r\n",
        "svhn_data = datasets.SVHN('train', download=True, transform=svhn_transform)\r\n",
        "mnist_loader = DataLoader(mnist_data, batch_size=32, shuffle=True)\r\n",
        "svhn_loader = DataLoader(svhn_data, batch_size=32)"
      ],
      "execution_count": 456,
      "outputs": [
        {
          "output_type": "stream",
          "text": [
            "Using downloaded and verified file: train/train_32x32.mat\n"
          ],
          "name": "stdout"
        }
      ]
    },
    {
      "cell_type": "code",
      "metadata": {
        "id": "RKtKa4G29S5p"
      },
      "source": [
        "\r\n",
        "def adaptive_instance_normalization(x, y):\r\n",
        "    # standard dev of y * ((x - mean of x)/stddev of y) + mean of y\r\n",
        "    return torch.std(y) * ((torch.subtract(x, torch.mean(x)))/torch.std(y)) + torch.mean(y)\r\n",
        "\r\n"
      ],
      "execution_count": 457,
      "outputs": []
    },
    {
      "cell_type": "code",
      "metadata": {
        "colab": {
          "base_uri": "https://localhost:8080/"
        },
        "id": "znh7hTDAdB6b",
        "outputId": "ad3ebff1-8f5c-4d63-85d0-667976ac5c3b"
      },
      "source": [
        "for epoch in range(epochs):\r\n",
        "    loss = 0\r\n",
        "    mnist = iter(mnist_loader)\r\n",
        "    svhn = iter(svhn_loader)\r\n",
        "    for i in range(1875):\r\n",
        "        mnist_feat = next(mnist)[0].to(device)\r\n",
        "        svhn_feat = next(svhn)[0].to(device)  \r\n",
        "        \r\n",
        "        # reset the gradients back to zero\r\n",
        "        # PyTorch accumulates gradients on subsequent backward passes\r\n",
        "        e_optimizer.zero_grad()\r\n",
        "        d_optimizer.zero_grad()\r\n",
        "        \r\n",
        "        \r\n",
        "\r\n",
        "        mnist_e = encoder(mnist_feat)\r\n",
        "        svhn_e = encoder(svhn_feat)\r\n",
        "\r\n",
        "        adain_layer = adaptive_instance_normalization(mnist_e, svhn_e).to(device)\r\n",
        "        \r\n",
        "        # compute reconstructions\r\n",
        "        outputs = decoder(adain_layer)\r\n",
        "        \r\n",
        "        # compute training reconstruction loss\r\n",
        "        content_loss = criterion(outputs, mnist_feat)\r\n",
        "        style_loss = criterion(outputs, svhn_feat)\r\n",
        "        train_loss = content_loss + style_loss\r\n",
        "        # compute accumulated gradients\r\n",
        "        train_loss.backward()\r\n",
        "        \r\n",
        "        # perform parameter update based on current gradients\r\n",
        "        e_optimizer.step()\r\n",
        "        d_optimizer.step()\r\n",
        "\r\n",
        "        # add the mini-batch training loss to epoch loss\r\n",
        "        loss += train_loss.item()\r\n",
        "        \r\n",
        "        \r\n",
        "    \r\n",
        "    # compute the epoch training loss\r\n",
        "    loss = loss / len(mnist_loader)\r\n",
        "    \r\n",
        "    # display the epoch training loss\r\n",
        "    print(\"epoch : {}/{}, loss = {:.6f}\".format(epoch + 1, epochs, loss))"
      ],
      "execution_count": 458,
      "outputs": [
        {
          "output_type": "stream",
          "text": [
            "epoch : 1/15, loss = 0.156756\n",
            "epoch : 2/15, loss = 0.146153\n",
            "epoch : 3/15, loss = 0.145584\n",
            "epoch : 4/15, loss = 0.145154\n",
            "epoch : 5/15, loss = 0.144982\n",
            "epoch : 6/15, loss = 0.144771\n",
            "epoch : 7/15, loss = 0.144648\n",
            "epoch : 8/15, loss = 0.144573\n",
            "epoch : 9/15, loss = 0.144523\n",
            "epoch : 10/15, loss = 0.144373\n",
            "epoch : 11/15, loss = 0.144415\n",
            "epoch : 12/15, loss = 0.144331\n",
            "epoch : 13/15, loss = 0.144267\n",
            "epoch : 14/15, loss = 0.144272\n",
            "epoch : 15/15, loss = 0.144252\n"
          ],
          "name": "stdout"
        }
      ]
    },
    {
      "cell_type": "code",
      "metadata": {
        "id": "psCowIupm7RU"
      },
      "source": [
        "test_dataset = datasets.MNIST('train', transform=mnist_transform, download=True)\r\n",
        "test_loader = DataLoader(\r\n",
        "    test_dataset, batch_size=10, shuffle=True\r\n",
        ")\r\n",
        "\r\n",
        "test_data = iter(test_loader)\r\n",
        "test_examples = None\r\n",
        "\r\n",
        "with torch.no_grad():\r\n",
        "  test = next(test_data)[0].to(device)\r\n",
        "  test_examples = test.view(-1, 784)\r\n",
        "  reconstruction = decoder(encoder(test)).view(-1, 784)\r\n",
        "  "
      ],
      "execution_count": 459,
      "outputs": []
    },
    {
      "cell_type": "code",
      "metadata": {
        "id": "gNGhv8QkdrDr",
        "colab": {
          "base_uri": "https://localhost:8080/",
          "height": 150
        },
        "outputId": "36135051-8d70-4a6f-9643-25180e6597b0"
      },
      "source": [
        "with torch.no_grad():\r\n",
        "  number = 10\r\n",
        "  plt.figure(figsize=(20, 4))\r\n",
        "  for index in range(number):\r\n",
        "    # displaying original\r\n",
        "    ax = plt.subplot(2, number, index + 1)\r\n",
        "    plt.imshow(test_examples[index].cpu().numpy().reshape(28, 28))\r\n",
        "    plt.gray()\r\n",
        "    ax.get_xaxis().set_visible(False)\r\n",
        "    ax.get_yaxis().set_visible(False)\r\n",
        "\r\n",
        "    #displaying reconstruction\r\n",
        "    ax = plt.subplot(2, number, index + 1 + number)\r\n",
        "    plt.imshow(reconstruction[index].cpu().numpy().reshape(28, 28))\r\n",
        "    plt.gray()\r\n",
        "    ax.get_xaxis().set_visible(False)\r\n",
        "    ax.get_yaxis().set_visible(False)\r\n",
        "  plt.show()\r\n"
      ],
      "execution_count": 460,
      "outputs": [
        {
          "output_type": "display_data",
          "data": {
            "image/png": "[encoded data removed]",
            "text/plain": [
              "<Figure size 1440x288 with 20 Axes>"
            ]
          },
          "metadata": {
            "tags": [],
            "needs_background": "light"
          }
        }
      ]
    }
  ]
}